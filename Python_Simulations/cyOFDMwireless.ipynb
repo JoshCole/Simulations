{
 "metadata": {
  "name": "cyOFDMwireless"
 },
 "nbformat": 3,
 "nbformat_minor": 0,
 "worksheets": [
  {
   "cells": [
    {
     "cell_type": "code",
     "collapsed": false,
     "input": [
      "from __future__ import division\n",
      "import numpy as np\n",
      "from scipy.special import erfc\n",
      "\n",
      "\n",
      "def pyofdmSim(nSym):\n",
      "    # Simulation Paramters\n",
      "    EbNodB = np.arange(-20,8,2) # Bit to noise ratio\n",
      "    #--------------------------\n",
      "    \n",
      "    \n",
      "    # OFDM Parameters - Giver in IEEE Spec\n",
      "    \n",
      "    N = 64 # FFT size or total number of subcarriers (used + unused) 64\n",
      "    Nsd = 48 # Number of data subcarriers 58\n",
      "    Nsp = 4 # number of pilot subcarriers 4\n",
      "    ofdmBW = 20 * 10**6\n",
      "    #--------------------------\n",
      "    \n",
      "    \n",
      "    # Derived Parameters\n",
      "    deltaF = ofdmBW/N # = 20 MHz/64 = 0.3125 MHz\n",
      "    Tfft = 1/deltaF # IFFT/FFT period = 3.2us\n",
      "    Tgi = Tfft/4 # Guard interval duration - duration of cyclic prefix\n",
      "    Tsignal = Tgi + Tfft # duration of BPSK-OFDM symbol\n",
      "    Ncp = np.divide(N*Tgi,Tfft) # Number of symbols allocated to cyclic prefix\n",
      "    Nst = Nsd + Nsp # Number of total used subcarriers\n",
      "    nBitsPerSym =Nst # For BPSK the number of Bits per Symbol is same as num of sub carriers\n",
      "    #--------------------------\n",
      "    Nfft = N+Ncp\n",
      "    \n",
      "    EsNodB = EbNodB + 10*np.log10(Nst/N) + 10*np.log10(N/(Ncp + N)) # converting to symbols to noise ratio\n",
      "    errors = np.zeros((len(EsNodB)))\n",
      "    theoreticalBER = np.zeros((len(EsNodB)))\n",
      "    \n",
      "    # Monte Carlo Simulation\n",
      "    noise = 1/np.sqrt(2)*(np.random.randn(nSym,Nfft) + 1j*np.random.randn(nSym,Nfft))\n",
      "   \n",
      "    for i in np.arange(len(EsNodB)):\n",
      "        for j in np.arange(nSym):\n",
      "            \n",
      "            # Transmitter\n",
      "            s = 2*np.round(np.random.rand(Nst))-1 # Generating Random Data with BPSK modulation\n",
      "            # IFFT block\n",
      "            # Assigning subcarriers from 1 to 26 (mapped to 1-26 of IFFT input)\n",
      "            # and -26 to -1 (mapped to 38 to 63 of IFFT input); Nulls from 27 to 37\n",
      "            # and at o position\n",
      "            X_Freq = np.concatenate((np.zeros(1),s[0:Nst/2],np.zeros(11),s[Nst/2::]),axis = 0)\n",
      "            \n",
      "            # Pretending the data to be in frequency domain and converting to time domain\n",
      "            x_Time = N/np.sqrt(Nst)*np.fft.ifft(X_Freq)\n",
      "            \n",
      "            # Adding Cyclic Prefix\n",
      "            ofdm_signal = np.concatenate((x_Time[N-Ncp:N],x_Time),axis = 0)\n",
      "            \n",
      "            # Channel Modeling\n",
      "            \n",
      "            r = np.sqrt((N + Ncp)/N)*ofdm_signal + 10**(-EsNodB[i]/20)*noise[j,:]\n",
      "            \n",
      "            # Receiver\n",
      "            # Removing cyclic prefix\n",
      "            r_Parallel = r[Ncp:(N+Ncp)]\n",
      "            \n",
      "            # FFT Block\n",
      "            r_Time = np.sqrt(Nst)/N*(np.fft.fft(r_Parallel))\n",
      "            \n",
      "            # Extracting the data carriers form the FFT ouput\n",
      "            \n",
      "            R_Freq = r_Time[np.concatenate((np.arange(1,Nst/2+1,dtype = int),np.arange(Nst/2+12,Nst+12,dtype = int)),axis = 0)]\n",
      "    \n",
      "            # BPSK demodulation / Constelation Demapper\n",
      "            \n",
      "            R_Freq[R_Freq>0] = +1\n",
      "            R_Freq[R_Freq<0] = -1\n",
      "            s_cap = R_Freq\n",
      "            numErrors = sum(abs(s_cap-s)/2) # Count number of errors\n",
      "            # Accumulate bit errors for all symbols transmitted\n",
      "            errors[i] = errors[i] + numErrors\n",
      "        theoreticalBER[i] = (1/2)*erfc(np.sqrt(10**(EbNodB[i]/10)))  #Same sa BER for BPSK over AWGN\n",
      "    simulatedBER = errors/(nSym*Nst)\n",
      "    return EsNodB, simulatedBER,theoreticalBER\n"
     ],
     "language": "python",
     "metadata": {},
     "outputs": [],
     "prompt_number": 20
    },
    {
     "cell_type": "code",
     "collapsed": false,
     "input": [
      "#%timeit cyofdmSim(10**4)\n",
      "%timeit pyofdmSim(10**4)"
     ],
     "language": "python",
     "metadata": {},
     "outputs": [
      {
       "output_type": "stream",
       "stream": "stdout",
       "text": [
        "1 loops, best of 3: 21.9 s per loop\n"
       ]
      }
     ],
     "prompt_number": 21
    },
    {
     "cell_type": "code",
     "collapsed": false,
     "input": [
      "# Plot Results\n",
      "#plt.figure('OFDM Sim')\n",
      "#plt.semilogy(EsNodB, simulatedBER,'r-o')\n",
      "#plt.hold(True)\n",
      "#plt.semilogy(EsNodB, theoreticalBER,'k*')\n",
      "#plt.grid(True)\n",
      "#plt.xlabel('EsNo dB')\n",
      "#plt.ylabel('Bit Error Rate')\n",
      "#plt.title('Bit Error vs SNR for OFDM System')\n",
      "#plt.legend(('Theoretical Bit Error Rate','Simulated Bit Error Rate'),loc='lower left',shadow = True, fancybox = True)\n",
      "#plt.show()"
     ],
     "language": "python",
     "metadata": {},
     "outputs": [],
     "prompt_number": 22
    }
   ],
   "metadata": {}
  }
 ]
}