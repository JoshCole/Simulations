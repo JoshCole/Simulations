{
 "metadata": {
  "name": ""
 },
 "nbformat": 3,
 "nbformat_minor": 0,
 "worksheets": [
  {
   "cells": [
    {
     "cell_type": "code",
     "collapsed": false,
     "input": [
      "#%reset\n",
      "from numba import *\n",
      "import numpy as np\n",
      "@jit\n",
      "class MyExtension(object):\n",
      "    @void(double)\n",
      "    def __init__(self, value):\n",
      "        self.value = value\n",
      "\n",
      "    @classmethod\n",
      "    @object_(double)\n",
      "    def from_value(cls, value):\n",
      "        print (value)\n",
      "        return cls(value)\n",
      "\n",
      "obj = MyExtension(10.0)\n",
      "obj.from_value"
     ],
     "language": "python",
     "metadata": {},
     "outputs": [
      {
       "metadata": {},
       "output_type": "pyout",
       "prompt_number": 2,
       "text": [
        "<bound method type.from_value of <class '__main__.MyExtension'>>"
       ]
      }
     ],
     "prompt_number": 2
    },
    {
     "cell_type": "code",
     "collapsed": false,
     "input": [
      "@autojit\n",
      "class MyAutojitExtension(object):\n",
      "    def __init__(self, value):\n",
      "        self.value = value\n",
      "\n",
      "    @int32(int32)\n",
      "    def method1(self, arg):\n",
      "        return arg + self.value\n",
      "\n",
      "    def method2(self, arg):\n",
      "        return arg + self.value\n",
      "    \n",
      "    @complex128(complex128)\n",
      "    def method3(self, arg):\n",
      "        return arg + self.value\n",
      "\n",
      "obj = MyAutojitExtension(10)\n",
      "print (obj.method1(2))\n",
      "print (obj.method1(2.0))\n",
      "print (obj.method2(2))\n",
      "print (obj.method2(2j))\n",
      "print (obj.method3(2))"
     ],
     "language": "python",
     "metadata": {},
     "outputs": [
      {
       "output_type": "stream",
       "stream": "stdout",
       "text": [
        "12\n",
        "12\n"
       ]
      },
      {
       "output_type": "stream",
       "stream": "stdout",
       "text": [
        "12\n"
       ]
      },
      {
       "output_type": "stream",
       "stream": "stdout",
       "text": [
        "(10+2j)\n",
        "(12+0j)\n"
       ]
      }
     ],
     "prompt_number": 3
    },
    {
     "cell_type": "code",
     "collapsed": false,
     "input": [
      "from __future__ import print_function, division, absolute_import\n",
      "from numba import double, autojit\n",
      "\n",
      "class MyClass(object):\n",
      "    def mymethod(self, arg):\n",
      "        return arg * 2\n",
      "    \n",
      "@autojit(locals=dict(mydouble=double)) # specify types for local variables\n",
      "def call_method(obj):\n",
      "    print(obj.mymethod(\"hello\"))  # object result\n",
      "    mydouble = obj.mymethod(10.2) # native double\n",
      "    print(mydouble * 2)           # native multiplication\n",
      "    \n",
      "call_method(MyClass())"
     ],
     "language": "python",
     "metadata": {},
     "outputs": [
      {
       "output_type": "stream",
       "stream": "stdout",
       "text": [
        "hellohello\n",
        "40.8\n"
       ]
      }
     ],
     "prompt_number": 4
    },
    {
     "cell_type": "code",
     "collapsed": false,
     "input": [
      "@jit\n",
      "class MyAutojitExtension(object):\n",
      "    @void(int32)\n",
      "    def __init__(self, value):\n",
      "        self.value = value\n",
      "\n",
      "    @int32(int32)\n",
      "    def method1(self, arg):\n",
      "        return arg + self.value\n",
      "    \n",
      "    @float64(float64)\n",
      "    def method2(self, arg):\n",
      "        return arg + self.value\n",
      "    \n",
      "    @complex128(complex128)\n",
      "    def method3(self, arg):\n",
      "        return arg + self.value\n",
      "\n",
      "obj = MyAutojitExtension(10)\n",
      "print (obj.method1(2))\n",
      "print (obj.method1(2))\n",
      "print (obj.method2(2))\n",
      "print (obj.method2(2))\n",
      "print (obj.method3(2))"
     ],
     "language": "python",
     "metadata": {},
     "outputs": [
      {
       "output_type": "stream",
       "stream": "stdout",
       "text": [
        "--------------------- Numba Encountered Errors or Warnings ---------------------\n",
        "    def method2(self, arg):\n",
        "------------------^\n",
        "Warning 12:18: Unused argument 'arg'\n",
        "--------------------------------------------------------------------------------\n"
       ]
      },
      {
       "output_type": "stream",
       "stream": "stdout",
       "text": [
        "12\n",
        "12\n",
        "0.1\n",
        "0.1\n",
        "(12+0j)\n"
       ]
      }
     ],
     "prompt_number": 43
    },
    {
     "cell_type": "code",
     "collapsed": false,
     "input": [
      "import numpy as np\n",
      "@autojit\n",
      "class MyAutojitExtension(object):\n",
      "    @void(int32)\n",
      "    def __init__(self, value):\n",
      "        self.value = value\n",
      "\n",
      "    @int32(int32)\n",
      "    def method1(self, arg):\n",
      "        return arg + self.value\n",
      "    \n",
      "    @float64(float64)\n",
      "    def method2(self, arg):\n",
      "        return arg + self.value\n",
      "    \n",
      "    def method3(self, arg1, arg2):\n",
      "        print (arg2)\n",
      "        return arg1 + self.value, arg1 + 1j * arg2\n",
      "    \n",
      "\n",
      "\n",
      "obj = MyAutojitExtension(10)\n",
      "print (obj.method1(2))\n",
      "print (obj.method1(2))\n",
      "print (obj.method2(2))\n",
      "print (obj.method2(2))\n",
      "print (obj.method3(2,4))\n",
      "\n"
     ],
     "language": "python",
     "metadata": {},
     "outputs": [
      {
       "output_type": "stream",
       "stream": "stdout",
       "text": [
        "12\n",
        "12\n",
        "12.0\n",
        "12.0\n"
       ]
      },
      {
       "ename": "TypeError",
       "evalue": "only length-1 arrays can be converted to Python scalars",
       "output_type": "pyerr",
       "traceback": [
        "\u001b[0;31m---------------------------------------------------------------------------\u001b[0m\n\u001b[0;31mTypeError\u001b[0m                                 Traceback (most recent call last)",
        "\u001b[0;32m<ipython-input-44-eb20e4099467>\u001b[0m in \u001b[0;36m<module>\u001b[0;34m()\u001b[0m\n\u001b[1;32m     26\u001b[0m \u001b[0;32mprint\u001b[0m \u001b[0;34m(\u001b[0m\u001b[0mobj\u001b[0m\u001b[0;34m.\u001b[0m\u001b[0mmethod2\u001b[0m\u001b[0;34m(\u001b[0m\u001b[0;36m2\u001b[0m\u001b[0;34m)\u001b[0m\u001b[0;34m)\u001b[0m\u001b[0;34m\u001b[0m\u001b[0m\n\u001b[1;32m     27\u001b[0m \u001b[0;32mprint\u001b[0m \u001b[0;34m(\u001b[0m\u001b[0mobj\u001b[0m\u001b[0;34m.\u001b[0m\u001b[0mmethod2\u001b[0m\u001b[0;34m(\u001b[0m\u001b[0;36m2\u001b[0m\u001b[0;34m)\u001b[0m\u001b[0;34m)\u001b[0m\u001b[0;34m\u001b[0m\u001b[0m\n\u001b[0;32m---> 28\u001b[0;31m \u001b[0;32mprint\u001b[0m \u001b[0;34m(\u001b[0m\u001b[0mobj\u001b[0m\u001b[0;34m.\u001b[0m\u001b[0mmethod3\u001b[0m\u001b[0;34m(\u001b[0m\u001b[0;36m2\u001b[0m\u001b[0;34m,\u001b[0m\u001b[0;36m4\u001b[0m\u001b[0;34m)\u001b[0m\u001b[0;34m)\u001b[0m\u001b[0;34m\u001b[0m\u001b[0m\n\u001b[0m\u001b[1;32m     29\u001b[0m \u001b[0;34m\u001b[0m\u001b[0m\n",
        "\u001b[0;32m/Users/joshuacole/anaconda/lib/python2.7/site-packages/numba/numbawrapper.so\u001b[0m in \u001b[0;36mnumba.numbawrapper.BoundSpecializingWrapper.__call__ (numba/numbawrapper.c:5041)\u001b[0;34m()\u001b[0m\n",
        "\u001b[0;32m/Users/joshuacole/anaconda/lib/python2.7/site-packages/numba/numbawrapper.so\u001b[0m in \u001b[0;36mnumba.numbawrapper._NumbaSpecializingWrapper.__call__ (numba/numbawrapper.c:3764)\u001b[0;34m()\u001b[0m\n",
        "\u001b[0;31mTypeError\u001b[0m: only length-1 arrays can be converted to Python scalars"
       ]
      },
      {
       "output_type": "stream",
       "stream": "stdout",
       "text": [
        "4\n"
       ]
      }
     ],
     "prompt_number": 44
    },
    {
     "cell_type": "code",
     "collapsed": false,
     "input": [
      "@jit(argtypes=(int32[:],int32, float64, complex128), return_type=(complex128, float64),locals=dict(temp=int32))\n",
      "def method4 (x,a,b,c):\n",
      "    print(2 * a)\n",
      "    print(2 * b)\n",
      "    print(2 * c)\n",
      "    temp = a\n",
      "    print (temp)\n",
      "    print (x)\n",
      "    return 4 * c, 3 * b\n",
      "x = np.arange(5, dtype = np.int32)\n",
      "method4(x,2,4.0,3j) "
     ],
     "language": "python",
     "metadata": {},
     "outputs": [
      {
       "output_type": "stream",
       "stream": "stdout",
       "text": [
        "4\n",
        "8.0\n",
        "6j\n",
        "2\n",
        "[0 1 2 3 4]\n"
       ]
      },
      {
       "metadata": {},
       "output_type": "pyout",
       "prompt_number": 7,
       "text": [
        "(12j, 12.0)"
       ]
      }
     ],
     "prompt_number": 7
    },
    {
     "cell_type": "code",
     "collapsed": false,
     "input": [
      "#@jit(argtypes=(int32,int32), return_type=(float64, float64),locals=dict(temp=int32, k=float64))\n",
      "@jit(argtypes=(int32,int32), return_type=(float64, float64),locals={'temp':int32, 'k':float64})\n",
      "def numbaModulation (a,b):\n",
      "    print (b)\n",
      "    k = np.log2(a)\n",
      "    print (k)\n",
      "    #print(2 * a)\n",
      "    #print(2 * b)\n",
      "    #print(2 * c)\n",
      "    temp = a\n",
      "    print (temp)\n",
      "    #print (x)\n",
      "    return k, temp\n",
      "x = np.arange(5, dtype = np.int32)\n",
      "numbaModulation(2,2)\n",
      "print (jit.func_defaults)"
     ],
     "language": "python",
     "metadata": {},
     "outputs": [
      {
       "output_type": "stream",
       "stream": "stdout",
       "text": [
        "2\n",
        "1.0\n",
        "2\n",
        "(None, None, 'ast', 'cpu', False)\n"
       ]
      }
     ],
     "prompt_number": 8
    },
    {
     "cell_type": "code",
     "collapsed": false,
     "input": [
      "#@jit(argtypes=int32, return_type=None)\n",
      "# non void returns value\n",
      "@jit(f8(f8))\n",
      "def test(a):\n",
      "    print (a)\n",
      "    return a\n",
      "test(2)"
     ],
     "language": "python",
     "metadata": {},
     "outputs": [
      {
       "output_type": "stream",
       "stream": "stdout",
       "text": [
        "2.0\n"
       ]
      },
      {
       "metadata": {},
       "output_type": "pyout",
       "prompt_number": 9,
       "text": [
        "2.0"
       ]
      }
     ],
     "prompt_number": 9
    },
    {
     "cell_type": "code",
     "collapsed": false,
     "input": [
      "@jit(restype=None, argtypes=[int32], locals={'k':float64}, backend='ast', target='cpu', nopython=False)\n",
      "def test(a):\n",
      "    k = np.log2(a)\n",
      "    return 2j * a, k\n",
      "%timeit test(2)\n",
      "print (test(2))\n",
      "print (jit.func_defaults)\n",
      "\n",
      "def test2(a):\n",
      "    k = np.log2(a)\n",
      "    return 2j * a, k\n",
      "%timeit test2(2)\n",
      "print (test2(2))"
     ],
     "language": "python",
     "metadata": {},
     "outputs": [
      {
       "output_type": "stream",
       "stream": "stdout",
       "text": [
        "1000000 loops, best of 3: 222 ns per loop"
       ]
      },
      {
       "output_type": "stream",
       "stream": "stdout",
       "text": [
        "\n",
        "(4j, 1.0)\n",
        "(None, None, 'ast', 'cpu', False)\n",
        "100000 loops, best of 3: 4.74 \u00b5s per loop"
       ]
      },
      {
       "output_type": "stream",
       "stream": "stdout",
       "text": [
        "\n",
        "(4j, 1.0)\n"
       ]
      }
     ],
     "prompt_number": 10
    },
    {
     "cell_type": "code",
     "collapsed": false,
     "input": [
      "#@autojit(locals=dict(k=double)) # specify types for local variables\n",
      "#@autojit\n",
      "@jit(float_(float_)) #specifying there is an float output\n",
      "def modulation(M):\n",
      "    # -----------------\n",
      "    k = np.log2(M)                              # Number of bits per symbol\n",
      "    if M == 2:\n",
      "        I = np.array([-1,1], dtype = np.int32)\n",
      "        Q = 0j\n",
      "        symbArray = I+Q\n",
      "    elif M == 4:\n",
      "        I = np.array([-1,1,-1,1], dtype = np.int32)\n",
      "        Q = 1j * np.array([-1,-1,1,1], dtype = np.int32)\n",
      "        symbArray = I+Q\n",
      "    elif M == 16:\n",
      "        #The real and imaginary axes are often called the in phase, or I-axis, and the quadrature, or Q-axis, respectively\n",
      "        I = np.array([-3,-3,-3,-3,-1,-1,-1,-1,3,3,3,3,1,1,1,1], dtype = np.int32)\n",
      "        Q = 1j * np.array([3,1,-3,-1,3,1,-3,-1,3,1,-3,-1,3,1,-3,-1],dtype = np.int32)\n",
      "        symbArray = I+Q\n",
      "\n",
      "    \n",
      "    return k\n",
      "%timeit modulation(16)"
     ],
     "language": "python",
     "metadata": {},
     "outputs": [
      {
       "output_type": "stream",
       "stream": "stdout",
       "text": [
        "--------------------- Numba Encountered Errors or Warnings ---------------------\n",
        "        symbArray = I+Q\n",
        "--------^\n",
        "Warning 10:8: Unused variable 'symbArray'\n",
        "--------------------------------------------------------------------------------\n",
        "10000 loops, best of 3: 33 \u00b5s per loop"
       ]
      },
      {
       "output_type": "stream",
       "stream": "stdout",
       "text": [
        "\n"
       ]
      }
     ],
     "prompt_number": 11
    },
    {
     "cell_type": "code",
     "collapsed": false,
     "input": [
      "'''\n",
      "    %run file.py: runs a Python script within the ipython environment \u2013 equivalent to typing the name of a script file and pressing enter in the Matlab command window\n",
      "    %debug: runs the post-mortem (after an exception) debugger, pdb. Once pdb runs, you can type a single u and d to go up and down the call stack, and q to quit.\n",
      "    %prun myfun(): profile the myfun function (equivalent to import cProfile; cProfile.run('myfun()')\n",
      "    %reset: clears variables from the workspace, similar to Matlab\u2019s clear\n",
      "    %whos: lists variables, similar to Matlab\u2019s whos\n",
      "    %edit myfile.py: edit, then execute the file in question. This uses the system editor, which appears on my system to be some incomprehensible text mode thingy (vi?). You may change the default editor by adding a line export EDITOR=emacs (or gedit or whatever you prefer) in ~/.bashrc\n",
      "    %notebook -e filename.ipynb: export the ipython history as a Notebook\n",
      "    %magic: shows all the magic commands\n",
      "\n",
      "In addition, there is an extension to ipython that will reload modules anytime they are changed, which is very useful when working on larger projects. To enable, use:\n",
      "\n",
      "%load_ext autoreload\n",
      "%autoreload 2\n",
      "'''"
     ],
     "language": "python",
     "metadata": {},
     "outputs": [
      {
       "metadata": {},
       "output_type": "pyout",
       "prompt_number": 12,
       "text": [
        "\"\\n    %run file.py: runs a Python script within the ipython environment \\xe2\\x80\\x93 equivalent to typing the name of a script file and pressing enter in the Matlab command window\\n    %debug: runs the post-mortem (after an exception) debugger, pdb. Once pdb runs, you can type a single u and d to go up and down the call stack, and q to quit.\\n    %prun myfun(): profile the myfun function (equivalent to import cProfile; cProfile.run('myfun()')\\n    %reset: clears variables from the workspace, similar to Matlab\\xe2\\x80\\x99s clear\\n    %whos: lists variables, similar to Matlab\\xe2\\x80\\x99s whos\\n    %edit myfile.py: edit, then execute the file in question. This uses the system editor, which appears on my system to be some incomprehensible text mode thingy (vi?). You may change the default editor by adding a line export EDITOR=emacs (or gedit or whatever you prefer) in ~/.bashrc\\n    %notebook -e filename.ipynb: export the ipython history as a Notebook\\n    %magic: shows all the magic commands\\n\\nIn addition, there is an extension to ipython that will reload modules anytime they are changed, which is very useful when working on larger projects. To enable, use:\\n\\n%load_ext autoreload\\n%autoreload 2\\n\""
       ]
      }
     ],
     "prompt_number": 12
    },
    {
     "cell_type": "code",
     "collapsed": false,
     "input": [
      "@jit\n",
      "class MyExtension(object):\n",
      "    @void(double)\n",
      "    def __init__(self, value):\n",
      "        self.value = value\n",
      "\n",
      "    @classmethod\n",
      "    @object_(double)\n",
      "    def from_value(cls, value):\n",
      "        return cls(value)\n",
      "    \n",
      "    @object_(double)\n",
      "    def method1(self, value):\n",
      "        return value + self.value\n",
      "    \n",
      "    @object_(int32)\n",
      "    def test(self,a):\n",
      "        k = np.log2(a)\n",
      "        return 2j * a, k\n",
      "    '''\n",
      "    @object_(argtypes=[int32], locals={'k':float64})\n",
      "    def method2(self, value):\n",
      "        k = 1j + value\n",
      "        print (k)\n",
      "        return value + self.value\n",
      "    '''\n",
      "@jit(restype=None, argtypes=[int32], locals={'k':float64}, backend='ast', target='cpu', nopython=False)\n",
      "def test(a):\n",
      "    k = np.log2(a)\n",
      "    return 2j * a, k\n",
      "%timeit test(2)\n",
      "print (test(2))\n",
      "\n",
      "obj = MyExtension(10.0)\n",
      "obj.from_value(2.0)\n",
      "obj.method1(2.3)\n",
      "%timeit obj.test(2)"
     ],
     "language": "python",
     "metadata": {},
     "outputs": [
      {
       "output_type": "stream",
       "stream": "stdout",
       "text": [
        "--------------------- Numba Encountered Errors or Warnings ---------------------\n",
        "    def test(self,a):\n",
        "---------^\n",
        "Warning 17:9: Unused argument 'self'\n",
        "--------------------------------------------------------------------------------\n"
       ]
      },
      {
       "output_type": "stream",
       "stream": "stdout",
       "text": [
        "1000000 loops, best of 3: 209 ns per loop"
       ]
      },
      {
       "output_type": "stream",
       "stream": "stdout",
       "text": [
        "\n",
        "(4j, 1.0)\n",
        "1000000 loops, best of 3: 295 ns per loop"
       ]
      },
      {
       "output_type": "stream",
       "stream": "stdout",
       "text": [
        "\n"
       ]
      }
     ],
     "prompt_number": 40
    }
   ],
   "metadata": {}
  }
 ]
}