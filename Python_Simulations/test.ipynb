{
 "metadata": {
  "name": "test"
 },
 "nbformat": 3,
 "nbformat_minor": 0,
 "worksheets": [
  {
   "cells": [
    {
     "cell_type": "code",
     "collapsed": false,
     "input": [
      "%load_ext cythonmagic"
     ],
     "language": "python",
     "metadata": {},
     "outputs": [],
     "prompt_number": 5
    },
    {
     "cell_type": "code",
     "collapsed": false,
     "input": [
      "%%cython\n",
      "cimport numpy as np\n",
      "import numpy as np\n",
      "from numpy import *\n",
      "import pylab as pl\n",
      "from pylab import * \n",
      "from scipy import integrate\n",
      "\n",
      "def myc_rb_e2f(np.ndarray[double,ndim=1]y, double t, np.ndarray[double, ndim=1] k, np.ndarray[double, ndim=1] d, np.ndarray[double, ndim=1] res):\n",
      "\n",
      "    cdef double S = 0.01\n",
      "    if t > 300.0:\n",
      "        S = 5.0\n",
      "    #if t > 400\n",
      "        #S = 0.01\n",
      "\n",
      "    cdef double t1 = k[0]*S/(k[7]+S)\n",
      "    cdef double t2 = k[1]*(y[0]/(k[14]+y[0]))*(y[1]/(k[15]+y[1]))\n",
      "    cdef double t3 = k[5]*y[0]/(k[14]+y[0])\n",
      "    cdef double t4 = k[11]*y[2]*y[6]/(k[16]+y[6])\n",
      "    cdef double t5 = k[12]*y[3]*y[6]/(k[17]+y[6])\n",
      "    cdef double t6 = k[2]*y[0]/(k[14]+y[0])\n",
      "    cdef double t7 = k[3]*S/(k[7]+S)\n",
      "    cdef double t8 = k[6]*y[1]/(k[15]+y[1])\n",
      "    cdef double t9 = k[13]*y[5]/(k[18]+y[5])\n",
      "    cdef double t10 = k[9]*y[2]*y[4]/(k[16]+y[4])\n",
      "    cdef double t11 = k[10]*y[3]*y[4]/(k[17]+y[4])\n",
      "\n",
      "    cdef double dM = t1-d[0]*y[0]\n",
      "    cdef double dE = t2+t3+t4+t5-k[8]*y[4]*y[1]-d[1]*y[1]\n",
      "    cdef double dCD = t6+t7-d[2]*y[2]\n",
      "    cdef double dCE = t8-d[3]*y[3]\n",
      "    cdef double dR = k[4]+t9-k[8]*y[4]*y[1]-t10-t11-d[4]*y[4]\n",
      "    cdef double dRP = t10+t11+t4+t5-t9-d[5]*y[5]\n",
      "    cdef double dRE = k[8]*y[4]*y[1]-t4-t5-d[6]*y[6]\n",
      "\n",
      "    res[0] = dM\n",
      "    res[1] = dE\n",
      "    res[2] = dCD\n",
      "    res[3] = dCE\n",
      "    res[4] = dR\n",
      "    res[5] = dRP\n",
      "    res[6] = dRE\n",
      "\n",
      "    return res\n",
      "\n",
      "\n",
      "def main():\n",
      "    cdef np.ndarray[double,ndim=1] t = np.zeros(467)\n",
      "    cdef np.ndarray[double,ndim=1] results = np.zeros(7)\n",
      "    t = np.linspace(0.,3000.,467.)\n",
      "    # Initial concentrations of [M,E,CD,CE,R,RP,RE]\n",
      "    cdef np.ndarray[double,ndim=1] y0 = np.array([0.,0.,0.,0.,0.4,0.,0.25])\n",
      "    cdef np.ndarray[double,ndim=2] E_simulated = np.zeros([467,554])\n",
      "    cdef np.ndarray[double,ndim=2] r = np.zeros([467,7])\n",
      "    cdef np.ndarray[double,ndim=1] E_avg = np.zeros([467])\n",
      "    cdef np.ndarray[double,ndim=1] k = np.zeros([19])\n",
      "    cdef np.ndarray[double,ndim=1] d = np.zeros([7])\n",
      "    cdef int i\n",
      "    for i in range (0,554):\n",
      "        k[0] = 1.+0.1*randn(1)\n",
      "        k[1] = 0.15+0.05*randn(1)\n",
      "        k[2] = 0.2+0.05*randn(1)\n",
      "        k[3] = 0.2+0.05*randn(1)\n",
      "        k[4] = 0.35+0.05*randn(1)\n",
      "        k[5] = 0.001+0.0001*randn(1)\n",
      "        k[6] = 0.5+0.05*randn(1)\n",
      "        k[7] = 0.3+0.05*randn(1)\n",
      "        k[8] = 30.+5.*randn(1)\n",
      "        k[9] = 18.+3.*randn(1)\n",
      "        k[10] = 18.+3.*randn(1)\n",
      "        k[11] = 18.+3.*randn(1)\n",
      "        k[12] = 18.+3.*randn(1)\n",
      "        k[13] = 3.6+0.5*randn(1)\n",
      "        k[14] = 0.15+0.05*randn(1)\n",
      "        k[15] = 0.15+0.05*randn(1)\n",
      "        k[16] = 0.92+0.1*randn(1)\n",
      "        k[17] = 0.92+0.1*randn(1)\n",
      "        k[18] = 0.01+0.001*randn(1)\n",
      "        d[0] = 0.7+0.05*randn(1)\n",
      "        d[1] = 0.25+0.025*randn(1)\n",
      "        d[2] = 1.5+0.05*randn(1)\n",
      "        d[3] = 1.5+0.05*randn(1)\n",
      "        d[4] = 0.06+0.01*randn(1)\n",
      "        d[5] = 0.06+0.01*randn(1)\n",
      "        d[6] = 0.03+0.005*randn(1)\n",
      "        r = integrate.odeint(myc_rb_e2f,y0,t,args=(k,d,results))\n",
      "        E_simulated[:,i] = r[:,1]\n",
      "    for i in range(0,467):\n",
      "        E_avg[i] = sum(E_simulated[i,:])/554.\n",
      "    #pl.plot(t,E_avg,'-ro')\n",
      "    #pl.show()\n",
      "\n",
      "#if __name__ == \"__main__\":\n"
     ],
     "language": "python",
     "metadata": {},
     "outputs": [],
     "prompt_number": 6
    },
    {
     "cell_type": "code",
     "collapsed": false,
     "input": [
      "%timeit main()"
     ],
     "language": "python",
     "metadata": {},
     "outputs": [
      {
       "output_type": "stream",
       "stream": "stdout",
       "text": [
        "Excess work done on this call (perhaps wrong Dfun type).\n",
        "Run with full_output = 1 to get quantitative information.\n",
        "Excess work done on this call (perhaps wrong Dfun type)."
       ]
      },
      {
       "output_type": "stream",
       "stream": "stdout",
       "text": [
        "\n",
        "Run with full_output = 1 to get quantitative information.\n",
        "Excess work done on this call (perhaps wrong Dfun type)."
       ]
      },
      {
       "output_type": "stream",
       "stream": "stdout",
       "text": [
        "\n",
        "Run with full_output = 1 to get quantitative information.\n",
        "Excess work done on this call (perhaps wrong Dfun type)."
       ]
      },
      {
       "output_type": "stream",
       "stream": "stdout",
       "text": [
        "\n",
        "Run with full_output = 1 to get quantitative information.\n",
        "Excess work done on this call (perhaps wrong Dfun type)."
       ]
      },
      {
       "output_type": "stream",
       "stream": "stdout",
       "text": [
        "\n",
        "Run with full_output = 1 to get quantitative information.\n",
        "Excess work done on this call (perhaps wrong Dfun type)."
       ]
      },
      {
       "output_type": "stream",
       "stream": "stdout",
       "text": [
        "\n",
        "Run with full_output = 1 to get quantitative information.\n",
        "1 loops, best of 3: 4.49 s per loop"
       ]
      },
      {
       "output_type": "stream",
       "stream": "stdout",
       "text": [
        "\n"
       ]
      }
     ],
     "prompt_number": 7
    }
   ],
   "metadata": {}
  }
 ]
}