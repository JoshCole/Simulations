{
 "metadata": {
  "name": ""
 },
 "nbformat": 3,
 "nbformat_minor": 0,
 "worksheets": [
  {
   "cells": [
    {
     "cell_type": "code",
     "collapsed": false,
     "input": [
      "from __future__ import division\n",
      "import numpy as np\n",
      "from numba import *\n",
      "import matplotlib.pyplot as plt\n",
      "import itertools\n",
      "import texttable as tt\n"
     ],
     "language": "python",
     "metadata": {},
     "outputs": []
    },
    {
     "cell_type": "code",
     "collapsed": false,
     "input": [
      "class Config():\n",
      "    def __init__(self):\n",
      "        return\n",
      "    \n",
      "    def getConfigSystem(self,propagationFrequency,bandwidth,distance,environment,ambientTemperature):\n",
      "        distance = np.arange(1,distance,0.5)\n",
      "        rbs = np.empty(1,dtype = [('1.4MHz', 'i4',(2)),('3MHz', 'i4'),('5MHz', 'i4'),('10MHz', 'i4'),('15MHz', 'i4'),('20MHz', 'i4')])\n",
      "        #rbs['1.4MHz'] = 6\n",
      "        rbs['3MHz'] = 15\n",
      "        \n",
      "        rbs['15MHz'] = 25\n",
      "        rbs['10MHz'] = 50\n",
      "        rbs['15MHz'] = 75\n",
      "        rbs['20MHz'] = 100\n",
      "        print rbs\n",
      "        \n",
      "        self.System = np.empty((1,),dtype =[('frequency','i4'),('bandwidth','a10'),('occupied bandwidth','f4'),('rbs','i4'),('distance','f4',(distance.shape)),('environment','a10'),('ambient temperature','f4')])\n",
      "        self.System['frequency'] = propagationFrequency\n",
      "        self.System['bandwidth'] = bandwidth\n",
      "        self.System['distance'] = distance\n",
      "        self.System['environment'] = environment\n",
      "        self.System['ambient temperature'] = ambientTemperature\n",
      "        \n",
      "        return\n",
      "    \n",
      "    def getConfigUE(self):\n",
      "        self.UE = np.zeros((1,),dtype =[('height','f4'),('gain','i4'),('losses','f4'),('noise figure','f4'),('noise level','f4')])\n",
      "        self.UE['height']       = 1.5\n",
      "        self.UE['gain']         = -2\n",
      "        self.UE['losses']       = 0.0\n",
      "        self.UE['noise figure'] = 9\n",
      "        return\n",
      "    \n",
      "    def getConfigeNB(self):\n",
      "        return\n",
      "    \n",
      "    def getConfigPathLoss(self):\n",
      "        return\n",
      "    \n",
      "config = Config()\n",
      "config.getConfigSystem(700,'10MHz',30,'rural',290)\n",
      "config.getConfigUE()\n",
      "print config.System\n",
      "#print config.UE"
     ],
     "language": "python",
     "metadata": {},
     "outputs": [
      {
       "output_type": "stream",
       "stream": "stdout",
       "text": [
        "[([1778385672, 6553601], 15, 1677722212, 50, 75, 100)]\n",
        "[ (700, '10MHz', nan, -1, [1.0, 1.5, 2.0, 2.5, 3.0, 3.5, 4.0, 4.5, 5.0, 5.5, 6.0, 6.5, 7.0, 7.5, 8.0, 8.5, 9.0, 9.5, 10.0, 10.5, 11.0, 11.5, 12.0, 12.5, 13.0, 13.5, 14.0, 14.5, 15.0, 15.5, 16.0, 16.5, 17.0, 17.5, 18.0, 18.5, 19.0, 19.5, 20.0, 20.5, 21.0, 21.5, 22.0, 22.5, 23.0, 23.5, 24.0, 24.5, 25.0, 25.5, 26.0, 26.5, 27.0, 27.5, 28.0, 28.5, 29.0, 29.5], 'rural', 290.0)]\n"
       ]
      }
     ],
     "prompt_number": 37
    },
    {
     "cell_type": "code",
     "collapsed": false,
     "input": [
      "x = np.zeros((2,),dtype=('i4,f4,a10'))\n",
      "print x\n",
      "x[:] = [(1,2.,'Hello'),(2,3.,\"World\")]\n",
      "#print x\n",
      "\n",
      "x = np.zeros(3, dtype=[('x','f4'),('y',np.float32),('value','f4',(2,2))])\n",
      "#print x\n",
      "print x[['x','y']]\n",
      "x = np.zeros(3, dtype={'names':['col1', 'col2'], 'formats':['i4','f4']})\n",
      "#print x\n"
     ],
     "language": "python",
     "metadata": {},
     "outputs": [
      {
       "output_type": "stream",
       "stream": "stdout",
       "text": [
        "[(0, 0.0, '') (0, 0.0, '')]\n",
        "[(0.0, 0.0) (0.0, 0.0) (0.0, 0.0)]\n"
       ]
      }
     ],
     "prompt_number": 12
    },
    {
     "cell_type": "code",
     "collapsed": false,
     "input": [
      "x = np.array([(1, 2.0, 'Hello'), (2, 3.0, 'World')],\n",
      "     dtype=[('f0', '>i4'), ('f1', '>f4'), ('f2', '|S10')])\n",
      "x['f1']"
     ],
     "language": "python",
     "metadata": {},
     "outputs": [
      {
       "metadata": {},
       "output_type": "pyout",
       "prompt_number": 41,
       "text": [
        "array([ 2.,  3.], dtype=float32)"
       ]
      }
     ],
     "prompt_number": 41
    }
   ],
   "metadata": {}
  }
 ]
}