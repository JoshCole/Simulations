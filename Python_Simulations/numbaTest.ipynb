{
 "metadata": {
  "name": ""
 },
 "nbformat": 3,
 "nbformat_minor": 0,
 "worksheets": [
  {
   "cells": [
    {
     "cell_type": "code",
     "collapsed": false,
     "input": [
      "%pylab inline\n",
      "import numpy as np\n",
      "import numba\n"
     ],
     "language": "python",
     "metadata": {},
     "outputs": [
      {
       "output_type": "stream",
       "stream": "stdout",
       "text": [
        "Populating the interactive namespace from numpy and matplotlib\n"
       ]
      }
     ],
     "prompt_number": 2
    },
    {
     "cell_type": "code",
     "collapsed": false,
     "input": [
      "import numpy as np\n",
      "def getConstellation(M):\n",
      "    # GetSymbolArrayData\n",
      "    #\n",
      "    # Calculates k, Es, Esnorm, Eb, constellation\n",
      "    #\n",
      "    # Usage :\n",
      "    #               [ k, Es, Eb, constellation ] = GetSymbolArrayData( M )\n",
      "    #\n",
      "    # Where         M = Number of Symbols in M-ary system             \n",
      "    \n",
      "    # Symbol Definition\n",
      "    # -----------------\n",
      "    \n",
      "    k = np.log2(M);                              # Number of bits per symbol\n",
      "    if M == 2:\n",
      "        constellation = np.array([-1+0j,1+0j],dtype=np.complex128)\n",
      "    elif M == 4:\n",
      "        constellation = np.array([-1-1j,1-1j,-1+1j,1+1j],dtype=np.complex128)\n",
      "    elif M == 16:\n",
      "        constellation = np.array([-3+3j,-3+1j,-3-3j,-3-1j,-1+3j,-1+1j,-1-3j,-1-1j,3+3j,3+1j,3-3j,3-1j,1+3j,1+1j,1-3j,1-1j],dtype=np.complex128)\n",
      "    elif M == 64:\n",
      "        constellation = np.array([+3+3j, +3+1j, +1+3j, +1+1j, +3+5j, +3+7j, +1+5j, +1+7j,\n",
      "         +5+3j, +5+1j, +7+3j, +7+1j, +5+5j, +5+7j, +7+5j, +7+7j,\n",
      "         +3-3j, +3-1j, +1-3j, +1-1j, +3-5j, +3-7j, +1-5j, +1-7j,\n",
      "         +5-3j, +5-1j, +7-3j, +7-1j, +5-5j, +5-7j, +7-5j, +7-7j,\n",
      "         -3+3j, -3+1j, -1+3j, -1+1j, -3+5j, -3+7j, -1+5j, -1+7j,\n",
      "         -5+3j, -5+1j, -7+3j, -7+1j, -5+5j, -5+7j, -7+5j, -7+7j,\n",
      "         -3-3j, -3-1j, -1-3j, -1-1j, -3-5j, -3-7j, -1-5j, -1-7j,\n",
      "         -5-3j, -5-1j, -7-3j, -7-1j, -5-5j, -5-7j, -7-5j, -7-7j ],dtype=np.complex128)\n",
      "        return k, constellation"
     ],
     "language": "python",
     "metadata": {},
     "outputs": [],
     "prompt_number": 3
    },
    {
     "cell_type": "code",
     "collapsed": false,
     "input": [
      "from numba import *\n",
      "import numpy as np\n",
      "import numexpr as ne\n",
      "@autojit\n",
      "def numbaconfigConstellation(constellation,k):\n",
      "    Esnorm = np.mean(ne.evaluate(\"abs(constellation)**2\"))         # Energy per symbol, the sum(Sr.^2+Si.^2)/(Number of symbols)\n",
      "    #Ebnorm = Esnorm/k\n",
      "    constellation = ne.evaluate(\"constellation/sqrt(Esnorm)\")       # Normalised symbol array\n",
      "    \n",
      "    Es = 1                                      # normalisation\n",
      "    Eb = ne.evaluate(\"Es/k\")                                   # Energy per bit\n",
      "    return constellation, Esnorm, Es, Eb"
     ],
     "language": "python",
     "metadata": {},
     "outputs": [],
     "prompt_number": 4
    },
    {
     "cell_type": "code",
     "collapsed": false,
     "input": [
      "%timeit k, constellation = getConstellation(64)\n",
      "k, constellation = getConstellation(64)\n",
      "%timeit numbaconfigConstellation(constellation, k)"
     ],
     "language": "python",
     "metadata": {},
     "outputs": [
      {
       "output_type": "stream",
       "stream": "stdout",
       "text": [
        "10000 loops, best of 3: 21.2 \u00b5s per loop\n",
        "--------------------- Numba Encountered Errors or Warnings ---------------------\n",
        "def numbaconfigConstellation(constellation,k):\n",
        "-------------------------------------------^\n",
        "Warning 5:43: Unused argument 'k'\n",
        "--------------------------------------------------------------------------------\n"
       ]
      },
      {
       "ename": "KeyError",
       "evalue": "'Esnorm'",
       "output_type": "pyerr",
       "traceback": [
        "\u001b[0;31m---------------------------------------------------------------------------\u001b[0m\n\u001b[0;31mKeyError\u001b[0m                                  Traceback (most recent call last)",
        "\u001b[0;32m<ipython-input-5-ac5683db68ee>\u001b[0m in \u001b[0;36m<module>\u001b[0;34m()\u001b[0m\n\u001b[1;32m      1\u001b[0m \u001b[0mget_ipython\u001b[0m\u001b[0;34m(\u001b[0m\u001b[0;34m)\u001b[0m\u001b[0;34m.\u001b[0m\u001b[0mmagic\u001b[0m\u001b[0;34m(\u001b[0m\u001b[0;34mu'timeit k, constellation = getConstellation(64)'\u001b[0m\u001b[0;34m)\u001b[0m\u001b[0;34m\u001b[0m\u001b[0m\n\u001b[1;32m      2\u001b[0m \u001b[0mk\u001b[0m\u001b[0;34m,\u001b[0m \u001b[0mconstellation\u001b[0m \u001b[0;34m=\u001b[0m \u001b[0mgetConstellation\u001b[0m\u001b[0;34m(\u001b[0m\u001b[0;36m64\u001b[0m\u001b[0;34m)\u001b[0m\u001b[0;34m\u001b[0m\u001b[0m\n\u001b[0;32m----> 3\u001b[0;31m \u001b[0mget_ipython\u001b[0m\u001b[0;34m(\u001b[0m\u001b[0;34m)\u001b[0m\u001b[0;34m.\u001b[0m\u001b[0mmagic\u001b[0m\u001b[0;34m(\u001b[0m\u001b[0;34mu'timeit numbaconfigConstellation(constellation, k)'\u001b[0m\u001b[0;34m)\u001b[0m\u001b[0;34m\u001b[0m\u001b[0m\n\u001b[0m",
        "\u001b[0;32m/Users/joshuacole/anaconda/lib/python2.7/site-packages/IPython/core/interactiveshell.pyc\u001b[0m in \u001b[0;36mmagic\u001b[0;34m(self, arg_s)\u001b[0m\n\u001b[1;32m   2164\u001b[0m         \u001b[0mmagic_name\u001b[0m\u001b[0;34m,\u001b[0m \u001b[0m_\u001b[0m\u001b[0;34m,\u001b[0m \u001b[0mmagic_arg_s\u001b[0m \u001b[0;34m=\u001b[0m \u001b[0marg_s\u001b[0m\u001b[0;34m.\u001b[0m\u001b[0mpartition\u001b[0m\u001b[0;34m(\u001b[0m\u001b[0;34m' '\u001b[0m\u001b[0;34m)\u001b[0m\u001b[0;34m\u001b[0m\u001b[0m\n\u001b[1;32m   2165\u001b[0m         \u001b[0mmagic_name\u001b[0m \u001b[0;34m=\u001b[0m \u001b[0mmagic_name\u001b[0m\u001b[0;34m.\u001b[0m\u001b[0mlstrip\u001b[0m\u001b[0;34m(\u001b[0m\u001b[0mprefilter\u001b[0m\u001b[0;34m.\u001b[0m\u001b[0mESC_MAGIC\u001b[0m\u001b[0;34m)\u001b[0m\u001b[0;34m\u001b[0m\u001b[0m\n\u001b[0;32m-> 2166\u001b[0;31m         \u001b[0;32mreturn\u001b[0m \u001b[0mself\u001b[0m\u001b[0;34m.\u001b[0m\u001b[0mrun_line_magic\u001b[0m\u001b[0;34m(\u001b[0m\u001b[0mmagic_name\u001b[0m\u001b[0;34m,\u001b[0m \u001b[0mmagic_arg_s\u001b[0m\u001b[0;34m)\u001b[0m\u001b[0;34m\u001b[0m\u001b[0m\n\u001b[0m\u001b[1;32m   2167\u001b[0m \u001b[0;34m\u001b[0m\u001b[0m\n\u001b[1;32m   2168\u001b[0m     \u001b[0;31m#-------------------------------------------------------------------------\u001b[0m\u001b[0;34m\u001b[0m\u001b[0;34m\u001b[0m\u001b[0m\n",
        "\u001b[0;32m/Users/joshuacole/anaconda/lib/python2.7/site-packages/IPython/core/interactiveshell.pyc\u001b[0m in \u001b[0;36mrun_line_magic\u001b[0;34m(self, magic_name, line)\u001b[0m\n\u001b[1;32m   2085\u001b[0m                 \u001b[0mkwargs\u001b[0m\u001b[0;34m[\u001b[0m\u001b[0;34m'local_ns'\u001b[0m\u001b[0;34m]\u001b[0m \u001b[0;34m=\u001b[0m \u001b[0msys\u001b[0m\u001b[0;34m.\u001b[0m\u001b[0m_getframe\u001b[0m\u001b[0;34m(\u001b[0m\u001b[0mstack_depth\u001b[0m\u001b[0;34m)\u001b[0m\u001b[0;34m.\u001b[0m\u001b[0mf_locals\u001b[0m\u001b[0;34m\u001b[0m\u001b[0m\n\u001b[1;32m   2086\u001b[0m             \u001b[0;32mwith\u001b[0m \u001b[0mself\u001b[0m\u001b[0;34m.\u001b[0m\u001b[0mbuiltin_trap\u001b[0m\u001b[0;34m:\u001b[0m\u001b[0;34m\u001b[0m\u001b[0m\n\u001b[0;32m-> 2087\u001b[0;31m                 \u001b[0mresult\u001b[0m \u001b[0;34m=\u001b[0m \u001b[0mfn\u001b[0m\u001b[0;34m(\u001b[0m\u001b[0;34m*\u001b[0m\u001b[0margs\u001b[0m\u001b[0;34m,\u001b[0m\u001b[0;34m**\u001b[0m\u001b[0mkwargs\u001b[0m\u001b[0;34m)\u001b[0m\u001b[0;34m\u001b[0m\u001b[0m\n\u001b[0m\u001b[1;32m   2088\u001b[0m             \u001b[0;32mreturn\u001b[0m \u001b[0mresult\u001b[0m\u001b[0;34m\u001b[0m\u001b[0m\n\u001b[1;32m   2089\u001b[0m \u001b[0;34m\u001b[0m\u001b[0m\n",
        "\u001b[0;32m/Users/joshuacole/anaconda/lib/python2.7/site-packages/IPython/core/magics/execution.pyc\u001b[0m in \u001b[0;36mtimeit\u001b[0;34m(self, line, cell)\u001b[0m\n",
        "\u001b[0;32m/Users/joshuacole/anaconda/lib/python2.7/site-packages/IPython/core/magic.pyc\u001b[0m in \u001b[0;36m<lambda>\u001b[0;34m(f, *a, **k)\u001b[0m\n\u001b[1;32m    189\u001b[0m     \u001b[0;31m# but it's overkill for just that one bit of state.\u001b[0m\u001b[0;34m\u001b[0m\u001b[0;34m\u001b[0m\u001b[0m\n\u001b[1;32m    190\u001b[0m     \u001b[0;32mdef\u001b[0m \u001b[0mmagic_deco\u001b[0m\u001b[0;34m(\u001b[0m\u001b[0marg\u001b[0m\u001b[0;34m)\u001b[0m\u001b[0;34m:\u001b[0m\u001b[0;34m\u001b[0m\u001b[0m\n\u001b[0;32m--> 191\u001b[0;31m         \u001b[0mcall\u001b[0m \u001b[0;34m=\u001b[0m \u001b[0;32mlambda\u001b[0m \u001b[0mf\u001b[0m\u001b[0;34m,\u001b[0m \u001b[0;34m*\u001b[0m\u001b[0ma\u001b[0m\u001b[0;34m,\u001b[0m \u001b[0;34m**\u001b[0m\u001b[0mk\u001b[0m\u001b[0;34m:\u001b[0m \u001b[0mf\u001b[0m\u001b[0;34m(\u001b[0m\u001b[0;34m*\u001b[0m\u001b[0ma\u001b[0m\u001b[0;34m,\u001b[0m \u001b[0;34m**\u001b[0m\u001b[0mk\u001b[0m\u001b[0;34m)\u001b[0m\u001b[0;34m\u001b[0m\u001b[0m\n\u001b[0m\u001b[1;32m    192\u001b[0m \u001b[0;34m\u001b[0m\u001b[0m\n\u001b[1;32m    193\u001b[0m         \u001b[0;32mif\u001b[0m \u001b[0mcallable\u001b[0m\u001b[0;34m(\u001b[0m\u001b[0marg\u001b[0m\u001b[0;34m)\u001b[0m\u001b[0;34m:\u001b[0m\u001b[0;34m\u001b[0m\u001b[0m\n",
        "\u001b[0;32m/Users/joshuacole/anaconda/lib/python2.7/site-packages/IPython/core/magics/execution.pyc\u001b[0m in \u001b[0;36mtimeit\u001b[0;34m(self, line, cell)\u001b[0m\n\u001b[1;32m    928\u001b[0m             \u001b[0mnumber\u001b[0m \u001b[0;34m=\u001b[0m \u001b[0;36m1\u001b[0m\u001b[0;34m\u001b[0m\u001b[0m\n\u001b[1;32m    929\u001b[0m             \u001b[0;32mfor\u001b[0m \u001b[0mi\u001b[0m \u001b[0;32min\u001b[0m \u001b[0mrange\u001b[0m\u001b[0;34m(\u001b[0m\u001b[0;36m1\u001b[0m\u001b[0;34m,\u001b[0m \u001b[0;36m10\u001b[0m\u001b[0;34m)\u001b[0m\u001b[0;34m:\u001b[0m\u001b[0;34m\u001b[0m\u001b[0m\n\u001b[0;32m--> 930\u001b[0;31m                 \u001b[0;32mif\u001b[0m \u001b[0mtimer\u001b[0m\u001b[0;34m.\u001b[0m\u001b[0mtimeit\u001b[0m\u001b[0;34m(\u001b[0m\u001b[0mnumber\u001b[0m\u001b[0;34m)\u001b[0m \u001b[0;34m>=\u001b[0m \u001b[0;36m0.2\u001b[0m\u001b[0;34m:\u001b[0m\u001b[0;34m\u001b[0m\u001b[0m\n\u001b[0m\u001b[1;32m    931\u001b[0m                     \u001b[0;32mbreak\u001b[0m\u001b[0;34m\u001b[0m\u001b[0m\n\u001b[1;32m    932\u001b[0m                 \u001b[0mnumber\u001b[0m \u001b[0;34m*=\u001b[0m \u001b[0;36m10\u001b[0m\u001b[0;34m\u001b[0m\u001b[0m\n",
        "\u001b[0;32m/Users/joshuacole/anaconda/lib/python2.7/timeit.pyc\u001b[0m in \u001b[0;36mtimeit\u001b[0;34m(self, number)\u001b[0m\n\u001b[1;32m    193\u001b[0m         \u001b[0mgc\u001b[0m\u001b[0;34m.\u001b[0m\u001b[0mdisable\u001b[0m\u001b[0;34m(\u001b[0m\u001b[0;34m)\u001b[0m\u001b[0;34m\u001b[0m\u001b[0m\n\u001b[1;32m    194\u001b[0m         \u001b[0;32mtry\u001b[0m\u001b[0;34m:\u001b[0m\u001b[0;34m\u001b[0m\u001b[0m\n\u001b[0;32m--> 195\u001b[0;31m             \u001b[0mtiming\u001b[0m \u001b[0;34m=\u001b[0m \u001b[0mself\u001b[0m\u001b[0;34m.\u001b[0m\u001b[0minner\u001b[0m\u001b[0;34m(\u001b[0m\u001b[0mit\u001b[0m\u001b[0;34m,\u001b[0m \u001b[0mself\u001b[0m\u001b[0;34m.\u001b[0m\u001b[0mtimer\u001b[0m\u001b[0;34m)\u001b[0m\u001b[0;34m\u001b[0m\u001b[0m\n\u001b[0m\u001b[1;32m    196\u001b[0m         \u001b[0;32mfinally\u001b[0m\u001b[0;34m:\u001b[0m\u001b[0;34m\u001b[0m\u001b[0m\n\u001b[1;32m    197\u001b[0m             \u001b[0;32mif\u001b[0m \u001b[0mgcold\u001b[0m\u001b[0;34m:\u001b[0m\u001b[0;34m\u001b[0m\u001b[0m\n",
        "\u001b[0;32m<magic-timeit>\u001b[0m in \u001b[0;36minner\u001b[0;34m(_it, _timer)\u001b[0m\n",
        "\u001b[0;32m/Users/joshuacole/anaconda/lib/python2.7/site-packages/numba/numbawrapper.so\u001b[0m in \u001b[0;36mnumba.numbawrapper._NumbaSpecializingWrapper.__call__ (numba/numbawrapper.c:3764)\u001b[0;34m()\u001b[0m\n",
        "\u001b[0;32m/Users/joshuacole/anaconda/lib/python2.7/site-packages/numexpr/necompiler.pyc\u001b[0m in \u001b[0;36mevaluate\u001b[0;34m(ex, local_dict, global_dict, out, order, casting, **kwargs)\u001b[0m\n\u001b[1;32m    699\u001b[0m             \u001b[0ma\u001b[0m \u001b[0;34m=\u001b[0m \u001b[0mlocal_dict\u001b[0m\u001b[0;34m[\u001b[0m\u001b[0mname\u001b[0m\u001b[0;34m]\u001b[0m\u001b[0;34m\u001b[0m\u001b[0m\n\u001b[1;32m    700\u001b[0m         \u001b[0;32mexcept\u001b[0m \u001b[0mKeyError\u001b[0m\u001b[0;34m:\u001b[0m\u001b[0;34m\u001b[0m\u001b[0m\n\u001b[0;32m--> 701\u001b[0;31m             \u001b[0ma\u001b[0m \u001b[0;34m=\u001b[0m \u001b[0mglobal_dict\u001b[0m\u001b[0;34m[\u001b[0m\u001b[0mname\u001b[0m\u001b[0;34m]\u001b[0m\u001b[0;34m\u001b[0m\u001b[0m\n\u001b[0m\u001b[1;32m    702\u001b[0m         \u001b[0marguments\u001b[0m\u001b[0;34m.\u001b[0m\u001b[0mappend\u001b[0m\u001b[0;34m(\u001b[0m\u001b[0mnumpy\u001b[0m\u001b[0;34m.\u001b[0m\u001b[0masarray\u001b[0m\u001b[0;34m(\u001b[0m\u001b[0ma\u001b[0m\u001b[0;34m)\u001b[0m\u001b[0;34m)\u001b[0m\u001b[0;34m\u001b[0m\u001b[0m\n\u001b[1;32m    703\u001b[0m \u001b[0;34m\u001b[0m\u001b[0m\n",
        "\u001b[0;31mKeyError\u001b[0m: 'Esnorm'"
       ]
      }
     ],
     "prompt_number": 5
    },
    {
     "cell_type": "code",
     "collapsed": false,
     "input": [
      "def numSum(arr):\n",
      "    M, N = arr.shape\n",
      "    sum = 0.0\n",
      "    for i in range(M):\n",
      "        for j in range(N):\n",
      "            sum += arr[i,j]\n",
      "    return sum\n",
      "fastsum = numba.jit('f8(f8[:,:])')(numSum)\n",
      "flexsum = numba.autojit(numSum)"
     ],
     "language": "python",
     "metadata": {},
     "outputs": []
    },
    {
     "cell_type": "code",
     "collapsed": false,
     "input": [
      "arr2d = np.arange(600, dtype=float).reshape(20,30)\n",
      "print numSum(arr2d)\n",
      "print fastsum(arr2d)\n",
      "print flexsum(arr2d)\n",
      "print flexsum(arr2d.astype(int))"
     ],
     "language": "python",
     "metadata": {},
     "outputs": []
    },
    {
     "cell_type": "code",
     "collapsed": false,
     "input": [
      "%timeit numSum(arr2d)\n",
      "%timeit fastsum(arr2d)\n",
      "%timeit arr2d.sum()"
     ],
     "language": "python",
     "metadata": {},
     "outputs": []
    },
    {
     "cell_type": "code",
     "collapsed": false,
     "input": [
      "@numba.jit('void(f8[:,:],f8[:,:],f8[:,:])')\n",
      "def filter(image, filt, output):\n",
      "    M, N = image.shape\n",
      "    m, n = filt.shape\n",
      "    for i in range(m//2, M-m//2):\n",
      "        for j in range(n//2, N-n//2):\n",
      "            result = 0.0\n",
      "            for k in range(m):\n",
      "                for l in range(n):\n",
      "                    result += image[i+k-m//2,j+l-n//2]*filt[k,l] \n",
      "            output[i,j] = result\n",
      "from scipy.misc import lena\n",
      "import time\n",
      "image = lena().astype('double')\n",
      "filt = np.ones((15,15),dtype = 'double')\n",
      "filt /= filt.sum()\n",
      "output = image.copy()\n",
      "filter(image, filt, output)\n",
      "\n",
      "gray()\n",
      "imshow(output)\n",
      "start = time.time()\n",
      "\n",
      "filter(image[:100, :100], filt, output[:100, :100])\n",
      "\n",
      "fast = time.time() - start\n",
      "start = time.time()\n",
      "filter.py_func(image[:100, :100], filt, output[:100, :100])\n",
      "slow = time.time() - start\n",
      "print \"Python: %f s; Numba: %f ms: Speed up is %f\" %(slow, fast*1000, slow / fast)"
     ],
     "language": "python",
     "metadata": {},
     "outputs": []
    },
    {
     "cell_type": "code",
     "collapsed": false,
     "input": [
      "%load_ext cythonmagic"
     ],
     "language": "python",
     "metadata": {},
     "outputs": []
    },
    {
     "cell_type": "code",
     "collapsed": false,
     "input": [
      "%%cython\n",
      "import numpy as np\n",
      "cimport numpy as np\n",
      "def cyconfigConstellation(np.int32_t M):\n",
      "    # GetSymbolArrayData\n",
      "    #\n",
      "    # Calculates k, Es, Esnorm, Eb, constellation\n",
      "    #\n",
      "    # Usage :\n",
      "    #               [ k, Es, Eb, constellation ] = GetSymbolArrayData( M )\n",
      "    #\n",
      "    # Where         M = Number of Symbols in M-ary system             \n",
      "    \n",
      "    # Symbol Definition\n",
      "    # -----------------\n",
      "    cdef np.complex128_t [:] constellation\n",
      "    #cdef np.ndarray[np.complex128_t, ndim=1] constellation\n",
      "    cdef np.int32_t Esnorm, Es,Eb\n",
      "    k = np.log2(M);                              # Number of bits per symbol\n",
      "    if M == 2:\n",
      "        constellation = np.array([-1+0j,1+0j],dtype=np.complex128)\n",
      "    elif M == 4:\n",
      "        constellation = np.array([-1-1j,1-1j,-1+1j,1+1j],dtype=np.complex128)\n",
      "    elif M == 16:\n",
      "        constellation = np.array([-3+3j,-3+1j,-3-3j,-3-1j,-1+3j,-1+1j,-1-3j,-1-1j,3+3j,3+1j,3-3j,3-1j,1+3j,1+1j,1-3j,1-1j],dtype=np.compex128)\n",
      "    elif M == 64:\n",
      "        constellation = np.array([+3+3j, +3+1j, +1+3j, +1+1j, +3+5j, +3+7j, +1+5j, +1+7j,\n",
      "         +5+3j, +5+1j, +7+3j, +7+1j, +5+5j, +5+7j, +7+5j, +7+7j,\n",
      "         +3-3j, +3-1j, +1-3j, +1-1j, +3-5j, +3-7j, +1-5j, +1-7j,\n",
      "         +5-3j, +5-1j, +7-3j, +7-1j, +5-5j, +5-7j, +7-5j, +7-7j,\n",
      "         -3+3j, -3+1j, -1+3j, -1+1j, -3+5j, -3+7j, -1+5j, -1+7j,\n",
      "         -5+3j, -5+1j, -7+3j, -7+1j, -5+5j, -5+7j, -7+5j, -7+7j,\n",
      "         -3-3j, -3-1j, -1-3j, -1-1j, -3-5j, -3-7j, -1-5j, -1-7j,\n",
      "         -5-3j, -5-1j, -7-3j, -7-1j, -5-5j, -5-7j, -7-5j, -7-7j ],dtype=np.complex128)\n",
      "        \n",
      "    Esnorm = np.mean(np.abs(constellation)**2)\n",
      "    #Esnorm = int(np.mean(abs(constellation)**2))         # Energy per symbol, the sum(Sr.^2+Si.^2)/(Number of symbols)\n",
      "    #Ebnorm = Esnorm/k\n",
      "    constellation = constellation/np.sqrt(Esnorm)       # Normalised symbol array\n",
      "    \n",
      "    Es = 1                                      # normalisation\n",
      "    Eb = np.divide(Es,k)                        # Energy per bit\n",
      "    "
     ],
     "language": "python",
     "metadata": {},
     "outputs": []
    },
    {
     "cell_type": "code",
     "collapsed": false,
     "input": [
      "%timeit cyconfigConstellation(64)"
     ],
     "language": "python",
     "metadata": {},
     "outputs": []
    },
    {
     "cell_type": "code",
     "collapsed": false,
     "input": [
      "def pyconfigConstellation(M):\n",
      "    # GetSymbolArrayData\n",
      "    #\n",
      "    # Calculates k, Es, Esnorm, Eb, constellation\n",
      "    #\n",
      "    # Usage :\n",
      "    #               [ k, Es, Eb, constellation ] = GetSymbolArrayData( M )\n",
      "    #\n",
      "    # Where         M = Number of Symbols in M-ary system             \n",
      "    \n",
      "    # Symbol Definition\n",
      "    # -----------------\n",
      "    \n",
      "    k = np.log2(M);                              # Number of bits per symbol\n",
      "    if M == 2:\n",
      "        constellation = np.array([-1+0j,1+0j],dtype=complex)\n",
      "    elif M == 4:\n",
      "        constellation = np.array([-1-1j,1-1j,-1+1j,1+1j],dtype=complex)\n",
      "    elif M == 16:\n",
      "        constellation = np.array([-3+3j,-3+1j,-3-3j,-3-1j,-1+3j,-1+1j,-1-3j,-1-1j,3+3j,3+1j,3-3j,3-1j,1+3j,1+1j,1-3j,1-1j],dtype=complex)\n",
      "    elif M == 64:\n",
      "        constellation = np.array([+3+3j, +3+1j, +1+3j, +1+1j, +3+5j, +3+7j, +1+5j, +1+7j,\n",
      "         +5+3j, +5+1j, +7+3j, +7+1j, +5+5j, +5+7j, +7+5j, +7+7j,\n",
      "         +3-3j, +3-1j, +1-3j, +1-1j, +3-5j, +3-7j, +1-5j, +1-7j,\n",
      "         +5-3j, +5-1j, +7-3j, +7-1j, +5-5j, +5-7j, +7-5j, +7-7j,\n",
      "         -3+3j, -3+1j, -1+3j, -1+1j, -3+5j, -3+7j, -1+5j, -1+7j,\n",
      "         -5+3j, -5+1j, -7+3j, -7+1j, -5+5j, -5+7j, -7+5j, -7+7j,\n",
      "         -3-3j, -3-1j, -1-3j, -1-1j, -3-5j, -3-7j, -1-5j, -1-7j,\n",
      "         -5-3j, -5-1j, -7-3j, -7-1j, -5-5j, -5-7j, -7-5j, -7-7j ],dtype=complex)\n",
      "\n",
      "    Esnorm = int(np.mean(abs(constellation)**2))         # Energy per symbol, the sum(Sr.^2+Si.^2)/(Number of symbols)\n",
      "    #Ebnorm = Esnorm/k\n",
      "    constellation = constellation/np.sqrt(Esnorm)       # Normalised symbol array\n",
      "    \n",
      "    Es = 1                                      # normalisation\n",
      "    Eb = Es/k                                   # Energy per bit\n",
      "    "
     ],
     "language": "python",
     "metadata": {},
     "outputs": []
    },
    {
     "cell_type": "code",
     "collapsed": false,
     "input": [
      "%timeit pyconfigConstellation(64)"
     ],
     "language": "python",
     "metadata": {},
     "outputs": []
    },
    {
     "cell_type": "code",
     "collapsed": false,
     "input": [
      "from numba import *\n",
      "import numpy as np\n",
      "\n",
      "mu = 0.1\n",
      "Lx, Ly = 101, 101\n",
      "N = 1000\n",
      "\n",
      "@autojit\n",
      "def diffuse_loops(iter_num):\n",
      "    u = np.zeros((Lx, Ly), dtype=np.float64)\n",
      "    temp_u = np.zeros_like(u)\n",
      "    temp_u[Lx / 2, Ly / 2] = 1000.0\n",
      "\n",
      "    for n in range(iter_num):\n",
      "        for i in range(1, Lx - 1):\n",
      "            for j in range(1, Ly - 1):\n",
      "                u[i, j] = mu * (temp_u[i + 1, j] + temp_u[i - 1, j] +\n",
      "                                temp_u[i, j + 1] + temp_u[i, j - 1] -\n",
      "                                4 * temp_u[i, j])\n",
      "\n",
      "        temp = u\n",
      "        u = temp_u\n",
      "        temp_u = temp\n",
      "\n",
      "    return u\n",
      "\n",
      "@autojit\n",
      "def diffuse_array_expressions(iter_num):\n",
      "    u = np.zeros((Lx, Ly), dtype=np.float64)\n",
      "    temp_u = np.zeros_like(u)\n",
      "    temp_u[Lx / 2, Ly / 2] = 1000.0\n",
      "\n",
      "    for i in range(iter_num):\n",
      "        u[1:-1, 1:-1] = mu * (temp_u[2:, 1:-1] + temp_u[:-2, 1:-1] +\n",
      "                              temp_u[1:-1, 2:] + temp_u[1:-1, :-2] -\n",
      "                              4 * temp_u[1:-1, 1:-1])\n",
      "\n",
      "        temp = u\n",
      "        u = temp_u\n",
      "        temp_u = temp\n",
      "\n",
      "    return u"
     ],
     "language": "python",
     "metadata": {},
     "outputs": []
    },
    {
     "cell_type": "code",
     "collapsed": false,
     "input": [
      "@autojit\n",
      "def matrix_vector(M, v):\n",
      "    return np.sum(M * v, axis=1)\n",
      "\n",
      "M = np.arange(90).reshape(9, 10)\n",
      "v = np.arange(10)\n",
      "%timeit matrix_vector(M, v)\n",
      "%timeit np.dot(M, v)"
     ],
     "language": "python",
     "metadata": {},
     "outputs": []
    },
    {
     "cell_type": "code",
     "collapsed": false,
     "input": [],
     "language": "python",
     "metadata": {},
     "outputs": []
    }
   ],
   "metadata": {}
  }
 ]
}