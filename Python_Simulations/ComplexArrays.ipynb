{
 "metadata": {
  "name": ""
 },
 "nbformat": 3,
 "nbformat_minor": 0,
 "worksheets": [
  {
   "cells": [
    {
     "cell_type": "code",
     "collapsed": false,
     "input": [
      "from numba import autojit,jit, int32, void, int_, double, typeof, float_\n",
      "import numpy as n"
     ],
     "language": "python",
     "metadata": {},
     "outputs": [],
     "prompt_number": 29
    },
    {
     "cell_type": "code",
     "collapsed": false,
     "input": [
      "@autojit\n",
      "def modulationScheme(M):\n",
      "\n",
      "    # -----------------\n",
      "    k = np.log2(M);                              # Number of bits per symbol\n",
      "    #The real and imaginary axes are often called the in phase, or I-axis, and the quadrature, or Q-axis, respectively\n",
      "    I = np.array([-3,-3,-3,-3,-1,-1,-1,-1,3,3,3,3,1,1,1,1], dtype = np.int32)\n",
      "    Q = 1j * np.array([3,1,-3,-1,3,1,-3,-1,3,1,-3,-1,3,1,-3,-1],dtype = np.int32)\n",
      "    #symbArray = ne.evaluate('I+Q')\n",
      "    symbArray = I+Q\n",
      "    \n",
      "\n",
      "    return symbArray, k"
     ],
     "language": "python",
     "metadata": {},
     "outputs": [],
     "prompt_number": 30
    },
    {
     "cell_type": "code",
     "collapsed": false,
     "input": [
      "M = 4\n",
      "#print numba.typeof(M)\n",
      "%timeit modulationScheme(M)\n",
      "\n",
      "#%timeit x = numba.typedlist(int32, np.arange(10))\n",
      "%timeit x2 = np.arange(10,dtype = np.int32)\n"
     ],
     "language": "python",
     "metadata": {},
     "outputs": [
      {
       "output_type": "stream",
       "stream": "stdout",
       "text": [
        "1 loops, best of 3: 64.1 \u00b5s per loop\n",
        "100000 loops, best of 3: 1.5 \u00b5s per loop"
       ]
      },
      {
       "output_type": "stream",
       "stream": "stdout",
       "text": [
        "\n"
       ]
      }
     ],
     "prompt_number": 31
    },
    {
     "cell_type": "code",
     "collapsed": false,
     "input": [
      "# All methods must be given signatures\n",
      "\n",
      "@jit\n",
      "class Shrubbery(object):\n",
      "    @void(float_, float_)\n",
      "    def __init__(self, w, h):\n",
      "        # All instance attributes must be defined in the initializer\n",
      "        self.width = w\n",
      "        self.height = h\n",
      "\n",
      "        # Types can be explicitly specified through casts\n",
      "        self.some_attr = double(1.0)\n",
      "\n",
      "    @float_()\n",
      "    def area(self):\n",
      "        print typeof(self.width * self.height)\n",
      "        return self.width * self.height\n",
      "\n",
      "    @void()\n",
      "    def describe(self):\n",
      "        print (\"This shrubbery is \", self.width,\n",
      "              \"by\", self.height, \"cubits.\")\n",
      " \n"
     ],
     "language": "python",
     "metadata": {},
     "outputs": [],
     "prompt_number": 32
    },
    {
     "cell_type": "code",
     "collapsed": false,
     "input": [
      "shrub = Shrubbery(10.0, 20.0)\n",
      "print(shrub.area())\n",
      "shrub.describe()\n",
      "print(shrub.width, shrub.height)\n",
      "shrub.width = 30\n",
      "print(shrub.area())\n",
      "print(shrub._numba_attrs._fields_) # This is an internal attribute subject to change!\n",
      "\n",
      "class MyClass(Shrubbery):\n",
      "    def newmethod(self):\n",
      "        print(\"This is a new method.\")\n",
      "\n",
      "shrub2 = MyClass(30.0,40.0)\n",
      "shrub2.describe()\n",
      "shrub2.newmethod()\n",
      "print(shrub._numba_attrs._fields_)"
     ],
     "language": "python",
     "metadata": {},
     "outputs": [
      {
       "output_type": "stream",
       "stream": "stdout",
       "text": [
        "float32\n",
        "200.0\n",
        "('This shrubbery is ', 10.0, 'by', 20.0, 'cubits.')\n",
        "(10.0, 20.0)\n",
        "float32\n",
        "600.0\n",
        "(('width', <class 'ctypes.c_float'>), ('some_attr', <class 'ctypes.c_double'>), ('height', <class 'ctypes.c_float'>))\n",
        "('This shrubbery is ', 30.0, 'by', 40.0, 'cubits.')\n",
        "This is a new method.\n",
        "(('width', <class 'ctypes.c_float'>), ('some_attr', <class 'ctypes.c_double'>), ('height', <class 'ctypes.c_float'>))\n"
       ]
      }
     ],
     "prompt_number": 33
    },
    {
     "cell_type": "code",
     "collapsed": false,
     "input": [
      "\n",
      "from numba import jit, void, int_, double\n",
      "\n",
      "# All methods must be given signatures\n",
      "\n",
      "@autojit\n",
      "class Sim(object):\n",
      "    @void(int_)\n",
      "    def __init__(self, M):\n",
      "        self.M = M\n",
      "        return\n",
      "    \n",
      "    def modulation(self):\n",
      "        # -----------------\n",
      "        #k = np.log2(self.M)                              # Number of bits per symbol\n",
      "        if self.M == 2:\n",
      "            I = np.array([-1,1], dtype = np.int32)\n",
      "            Q = 0j\n",
      "            symbArray = I+Q\n",
      "        elif self.M == 4:\n",
      "            I = np.array([-1,1,-1,1], dtype = np.int32)\n",
      "            Q = 1j * np.array([-1,-1,1,1], dtype = np.int32)\n",
      "            symbArray = I+Q\n",
      "        elif self.M == 16:\n",
      "            #The real and imaginary axes are often called the in phase, or I-axis, and the quadrature, or Q-axis, respectively\n",
      "            I = np.array([-3,-3,-3,-3,-1,-1,-1,-1,3,3,3,3,1,1,1,1], dtype = np.int32)\n",
      "            Q = 1j * np.array([3,1,-3,-1,3,1,-3,-1,3,1,-3,-1,3,1,-3,-1],dtype = np.int32)\n",
      "            symbArray = I+Q\n",
      "        \n",
      "        return symbArray"
     ],
     "language": "python",
     "metadata": {},
     "outputs": [],
     "prompt_number": 34
    },
    {
     "cell_type": "code",
     "collapsed": false,
     "input": [
      "simTest = Sim(16)\n",
      "\n",
      "%timeit simTest.modulation()"
     ],
     "language": "python",
     "metadata": {},
     "outputs": [
      {
       "output_type": "stream",
       "stream": "stdout",
       "text": [
        "--------------------- Numba Encountered Errors or Warnings ---------------------\n",
        "        return symbArray\n",
        "-----------^\n",
        "Warning 30:11: local variable 'symbArray' might be referenced before assignment\n",
        "--------------------------------------------------------------------------------\n"
       ]
      },
      {
       "output_type": "stream",
       "stream": "stdout",
       "text": [
        "1 loops, best of 3: 41 \u00b5s per loop\n"
       ]
      }
     ],
     "prompt_number": 35
    },
    {
     "cell_type": "code",
     "collapsed": false,
     "input": [
      "from numba import *\n",
      "import numpy as np\n",
      "    \n",
      "@jit(restype=None, argtypes=[int32], locals={'k':int32,'I':object_,'Q':object_,'symbArray':object_,'Esnorm':int32, 'Ebnorm':int32, 'Es':int32, 'Eb':int32}, backend='ast', target='cpu', nopython=False)\n",
      "\n",
      "def modulation(M):\n",
      "    # -----------------\n",
      "    k = np.log2(M)                              # Number of bits per symbol\n",
      "    if M == 2:\n",
      "        I = np.array([-1,1], dtype = np.int32)\n",
      "        Q = 1j *np.array([0,0], dtype = np.int32)\n",
      "        symbArray = I + Q\n",
      "        Esnorm = np.mean(np.abs(symbArray)**2)         # Energy per symbol, the sum(Sr.^2+Si.^2)/(Number of symbols)\n",
      "        Ebnorm = Esnorm/k\n",
      "        symbArray = symbArray/np.sqrt(Esnorm)       # Normalised symbol array\n",
      "        \n",
      "        Es = 1                                      # normalisation\n",
      "        Eb = Es/k                                   # Energy per bit\n",
      "        return k,Es,Esnorm,Eb,Ebnorm,symbArray\n",
      "    elif M == 4:\n",
      "        I = np.array([-1,1,-1,1], dtype = np.int32)\n",
      "        Q = 1j * np.array([-1,-1,1,1], dtype = np.int32)\n",
      "        symbArray = I + Q\n",
      "        Esnorm = np.mean(np.abs(symbArray)**2)         # Energy per symbol, the sum(Sr.^2+Si.^2)/(Number of symbols)\n",
      "        Ebnorm = Esnorm/k\n",
      "        symbArray = symbArray/np.sqrt(Esnorm)       # Normalised symbol array\n",
      "        \n",
      "        Es = 1                                      # normalisation\n",
      "        Eb = Es/k                                   # Energy per bit\n",
      "        return k,Es,Esnorm,Eb,Ebnorm,symbArray\n",
      "    elif M == 16:\n",
      "        #The real and imaginary axes are often called the in phase, or I-axis, and the quadrature, or Q-axis, respectively\n",
      "        I = np.array([-3,-3,-3,-3,-1,-1,-1,-1,3,3,3,3,1,1,1,1], dtype = np.int32)\n",
      "        Q = 1j * np.array([3,1,-3,-1,3,1,-3,-1,3,1,-3,-1,3,1,-3,-1],dtype = np.int32)\n",
      "        symbArray = I + Q\n",
      "        Esnorm = np.mean(np.abs(symbArray)**2)         # Energy per symbol, the sum(Sr.^2+Si.^2)/(Number of symbols)\n",
      "        Ebnorm = Esnorm/k\n",
      "        symbArray = symbArray/np.sqrt(Esnorm)       # Normalised symbol array\n",
      "        \n",
      "        Es = 1                                      # normalisation\n",
      "        Eb = Es/k                                   # Energy per bit\n",
      "        return k,Es,Esnorm,Eb,Ebnorm,symbArray\n",
      "    \n",
      "%timeit modulation(4)\n",
      "\n"
     ],
     "language": "python",
     "metadata": {},
     "outputs": [
      {
       "output_type": "stream",
       "stream": "stdout",
       "text": [
        "10000 loops, best of 3: 56.9 \u00b5s per loop"
       ]
      },
      {
       "output_type": "stream",
       "stream": "stdout",
       "text": [
        "\n"
       ]
      }
     ],
     "prompt_number": 34
    },
    {
     "cell_type": "code",
     "collapsed": false,
     "input": [],
     "language": "python",
     "metadata": {},
     "outputs": [],
     "prompt_number": 36
    }
   ],
   "metadata": {}
  }
 ]
}